{
 "cells": [
  {
   "cell_type": "markdown",
   "metadata": {},
   "source": [
    "# Analysis"
   ]
  },
  {
   "cell_type": "markdown",
   "metadata": {},
   "source": [
    "In the sister notebook, we have aggregated Fitbit data from a few sources, to combine sleep data with activity levels. In this notebook, we will study the relationship between these variables."
   ]
  },
  {
   "cell_type": "markdown",
   "metadata": {},
   "source": [
    "## Setup"
   ]
  },
  {
   "cell_type": "code",
   "execution_count": 2,
   "metadata": {
    "ExecuteTime": {
     "end_time": "2020-10-21T10:38:00.227159Z",
     "start_time": "2020-10-21T10:38:00.215618Z"
    }
   },
   "outputs": [],
   "source": [
    "import os\n",
    "import pandas as pd\n",
    "import numpy as np\n",
    "import matplotlib.pyplot as plt"
   ]
  },
  {
   "cell_type": "code",
   "execution_count": 9,
   "metadata": {
    "ExecuteTime": {
     "end_time": "2020-10-21T10:45:21.953669Z",
     "start_time": "2020-10-21T10:45:21.910741Z"
    },
    "collapsed": true
   },
   "outputs": [],
   "source": [
    "df = pd.read_csv('Fitbit_data_agg.csv')"
   ]
  },
  {
   "cell_type": "code",
   "execution_count": 10,
   "metadata": {
    "ExecuteTime": {
     "end_time": "2020-10-21T10:45:22.575157Z",
     "start_time": "2020-10-21T10:45:22.523317Z"
    }
   },
   "outputs": [
    {
     "data": {
      "text/html": [
       "<div>\n",
       "<style scoped>\n",
       "    .dataframe tbody tr th:only-of-type {\n",
       "        vertical-align: middle;\n",
       "    }\n",
       "\n",
       "    .dataframe tbody tr th {\n",
       "        vertical-align: top;\n",
       "    }\n",
       "\n",
       "    .dataframe thead th {\n",
       "        text-align: right;\n",
       "    }\n",
       "</style>\n",
       "<table border=\"1\" class=\"dataframe\">\n",
       "  <thead>\n",
       "    <tr style=\"text-align: right;\">\n",
       "      <th></th>\n",
       "      <th>date</th>\n",
       "      <th>sleep_log_entry_id</th>\n",
       "      <th>timestamp</th>\n",
       "      <th>overall_score</th>\n",
       "      <th>composition_score</th>\n",
       "      <th>revitalization_score</th>\n",
       "      <th>duration_score</th>\n",
       "      <th>deep_sleep_in_minutes</th>\n",
       "      <th>resting_heart_rate</th>\n",
       "      <th>restlessness</th>\n",
       "      <th>calories</th>\n",
       "      <th>distance</th>\n",
       "    </tr>\n",
       "  </thead>\n",
       "  <tbody>\n",
       "    <tr>\n",
       "      <th>0</th>\n",
       "      <td>2020-10-14</td>\n",
       "      <td>29272484200</td>\n",
       "      <td>2020-10-14T08:37:30Z</td>\n",
       "      <td>79</td>\n",
       "      <td>21</td>\n",
       "      <td>21</td>\n",
       "      <td>37</td>\n",
       "      <td>74</td>\n",
       "      <td>45</td>\n",
       "      <td>0.089061</td>\n",
       "      <td>773.32</td>\n",
       "      <td>18780</td>\n",
       "    </tr>\n",
       "    <tr>\n",
       "      <th>1</th>\n",
       "      <td>2020-10-13</td>\n",
       "      <td>29258226487</td>\n",
       "      <td>2020-10-13T08:34:30Z</td>\n",
       "      <td>83</td>\n",
       "      <td>18</td>\n",
       "      <td>21</td>\n",
       "      <td>44</td>\n",
       "      <td>66</td>\n",
       "      <td>45</td>\n",
       "      <td>0.104386</td>\n",
       "      <td>3769.94</td>\n",
       "      <td>1485000</td>\n",
       "    </tr>\n",
       "    <tr>\n",
       "      <th>2</th>\n",
       "      <td>2020-10-12</td>\n",
       "      <td>29239981449</td>\n",
       "      <td>2020-10-12T08:36:00Z</td>\n",
       "      <td>78</td>\n",
       "      <td>22</td>\n",
       "      <td>20</td>\n",
       "      <td>36</td>\n",
       "      <td>87</td>\n",
       "      <td>45</td>\n",
       "      <td>0.089728</td>\n",
       "      <td>3007.74</td>\n",
       "      <td>715940</td>\n",
       "    </tr>\n",
       "    <tr>\n",
       "      <th>3</th>\n",
       "      <td>2020-10-11</td>\n",
       "      <td>29227910597</td>\n",
       "      <td>2020-10-11T09:26:00Z</td>\n",
       "      <td>80</td>\n",
       "      <td>19</td>\n",
       "      <td>22</td>\n",
       "      <td>39</td>\n",
       "      <td>75</td>\n",
       "      <td>45</td>\n",
       "      <td>0.066084</td>\n",
       "      <td>3891.34</td>\n",
       "      <td>1336270</td>\n",
       "    </tr>\n",
       "    <tr>\n",
       "      <th>4</th>\n",
       "      <td>2020-10-10</td>\n",
       "      <td>29215246798</td>\n",
       "      <td>2020-10-10T09:23:00Z</td>\n",
       "      <td>88</td>\n",
       "      <td>20</td>\n",
       "      <td>22</td>\n",
       "      <td>46</td>\n",
       "      <td>93</td>\n",
       "      <td>45</td>\n",
       "      <td>0.056881</td>\n",
       "      <td>3060.54</td>\n",
       "      <td>852090</td>\n",
       "    </tr>\n",
       "  </tbody>\n",
       "</table>\n",
       "</div>"
      ],
      "text/plain": [
       "         date  sleep_log_entry_id             timestamp  overall_score  \\\n",
       "0  2020-10-14         29272484200  2020-10-14T08:37:30Z             79   \n",
       "1  2020-10-13         29258226487  2020-10-13T08:34:30Z             83   \n",
       "2  2020-10-12         29239981449  2020-10-12T08:36:00Z             78   \n",
       "3  2020-10-11         29227910597  2020-10-11T09:26:00Z             80   \n",
       "4  2020-10-10         29215246798  2020-10-10T09:23:00Z             88   \n",
       "\n",
       "   composition_score  revitalization_score  duration_score  \\\n",
       "0                 21                    21              37   \n",
       "1                 18                    21              44   \n",
       "2                 22                    20              36   \n",
       "3                 19                    22              39   \n",
       "4                 20                    22              46   \n",
       "\n",
       "   deep_sleep_in_minutes  resting_heart_rate  restlessness  calories  distance  \n",
       "0                     74                  45      0.089061    773.32     18780  \n",
       "1                     66                  45      0.104386   3769.94   1485000  \n",
       "2                     87                  45      0.089728   3007.74    715940  \n",
       "3                     75                  45      0.066084   3891.34   1336270  \n",
       "4                     93                  45      0.056881   3060.54    852090  "
      ]
     },
     "execution_count": 10,
     "metadata": {},
     "output_type": "execute_result"
    }
   ],
   "source": [
    "df.head()"
   ]
  },
  {
   "cell_type": "markdown",
   "metadata": {},
   "source": [
    "## Shifting data"
   ]
  },
  {
   "cell_type": "markdown",
   "metadata": {},
   "source": [
    "One important flaw in the current dataset is the following. A sleep score is timestamped by the date of *waking up*, which means that the current DataFrame lists all activity performed *after* the corresponding night's sleep.\n",
    "\n",
    "Because we want to see the influence of activity on sleep quality, we want to compare the activity levels the day *before* a night's sleep. We thus need to shift the `calories` and `distance` columns down by one. However, before we do that, we need to sort by date!"
   ]
  },
  {
   "cell_type": "code",
   "execution_count": 17,
   "metadata": {
    "ExecuteTime": {
     "end_time": "2020-10-21T10:47:23.921875Z",
     "start_time": "2020-10-21T10:47:23.867352Z"
    }
   },
   "outputs": [
    {
     "data": {
      "text/html": [
       "<div>\n",
       "<style scoped>\n",
       "    .dataframe tbody tr th:only-of-type {\n",
       "        vertical-align: middle;\n",
       "    }\n",
       "\n",
       "    .dataframe tbody tr th {\n",
       "        vertical-align: top;\n",
       "    }\n",
       "\n",
       "    .dataframe thead th {\n",
       "        text-align: right;\n",
       "    }\n",
       "</style>\n",
       "<table border=\"1\" class=\"dataframe\">\n",
       "  <thead>\n",
       "    <tr style=\"text-align: right;\">\n",
       "      <th></th>\n",
       "      <th>date</th>\n",
       "      <th>sleep_log_entry_id</th>\n",
       "      <th>timestamp</th>\n",
       "      <th>overall_score</th>\n",
       "      <th>composition_score</th>\n",
       "      <th>revitalization_score</th>\n",
       "      <th>duration_score</th>\n",
       "      <th>deep_sleep_in_minutes</th>\n",
       "      <th>resting_heart_rate</th>\n",
       "      <th>restlessness</th>\n",
       "      <th>calories</th>\n",
       "      <th>distance</th>\n",
       "    </tr>\n",
       "  </thead>\n",
       "  <tbody>\n",
       "    <tr>\n",
       "      <th>186</th>\n",
       "      <td>2020-04-10</td>\n",
       "      <td>26680446028</td>\n",
       "      <td>2020-04-10T08:44:30Z</td>\n",
       "      <td>84</td>\n",
       "      <td>21</td>\n",
       "      <td>22</td>\n",
       "      <td>41</td>\n",
       "      <td>61</td>\n",
       "      <td>53</td>\n",
       "      <td>0.078285</td>\n",
       "      <td>3635.23</td>\n",
       "      <td>1479970</td>\n",
       "    </tr>\n",
       "    <tr>\n",
       "      <th>185</th>\n",
       "      <td>2020-04-11</td>\n",
       "      <td>26692362988</td>\n",
       "      <td>2020-04-11T08:09:00Z</td>\n",
       "      <td>86</td>\n",
       "      <td>22</td>\n",
       "      <td>21</td>\n",
       "      <td>43</td>\n",
       "      <td>93</td>\n",
       "      <td>46</td>\n",
       "      <td>0.070526</td>\n",
       "      <td>3183.30</td>\n",
       "      <td>667330</td>\n",
       "    </tr>\n",
       "    <tr>\n",
       "      <th>184</th>\n",
       "      <td>2020-04-12</td>\n",
       "      <td>26705213673</td>\n",
       "      <td>2020-04-12T08:29:30Z</td>\n",
       "      <td>80</td>\n",
       "      <td>22</td>\n",
       "      <td>20</td>\n",
       "      <td>38</td>\n",
       "      <td>105</td>\n",
       "      <td>45</td>\n",
       "      <td>0.090828</td>\n",
       "      <td>3364.11</td>\n",
       "      <td>1373720</td>\n",
       "    </tr>\n",
       "    <tr>\n",
       "      <th>183</th>\n",
       "      <td>2020-04-13</td>\n",
       "      <td>26717633856</td>\n",
       "      <td>2020-04-13T08:58:30Z</td>\n",
       "      <td>89</td>\n",
       "      <td>22</td>\n",
       "      <td>22</td>\n",
       "      <td>45</td>\n",
       "      <td>100</td>\n",
       "      <td>45</td>\n",
       "      <td>0.069432</td>\n",
       "      <td>2772.08</td>\n",
       "      <td>615080</td>\n",
       "    </tr>\n",
       "    <tr>\n",
       "      <th>182</th>\n",
       "      <td>2020-04-14</td>\n",
       "      <td>26733358149</td>\n",
       "      <td>2020-04-14T08:14:00Z</td>\n",
       "      <td>85</td>\n",
       "      <td>21</td>\n",
       "      <td>22</td>\n",
       "      <td>42</td>\n",
       "      <td>77</td>\n",
       "      <td>45</td>\n",
       "      <td>0.069486</td>\n",
       "      <td>2530.52</td>\n",
       "      <td>513160</td>\n",
       "    </tr>\n",
       "  </tbody>\n",
       "</table>\n",
       "</div>"
      ],
      "text/plain": [
       "           date  sleep_log_entry_id             timestamp  overall_score  \\\n",
       "186  2020-04-10         26680446028  2020-04-10T08:44:30Z             84   \n",
       "185  2020-04-11         26692362988  2020-04-11T08:09:00Z             86   \n",
       "184  2020-04-12         26705213673  2020-04-12T08:29:30Z             80   \n",
       "183  2020-04-13         26717633856  2020-04-13T08:58:30Z             89   \n",
       "182  2020-04-14         26733358149  2020-04-14T08:14:00Z             85   \n",
       "\n",
       "     composition_score  revitalization_score  duration_score  \\\n",
       "186                 21                    22              41   \n",
       "185                 22                    21              43   \n",
       "184                 22                    20              38   \n",
       "183                 22                    22              45   \n",
       "182                 21                    22              42   \n",
       "\n",
       "     deep_sleep_in_minutes  resting_heart_rate  restlessness  calories  \\\n",
       "186                     61                  53      0.078285   3635.23   \n",
       "185                     93                  46      0.070526   3183.30   \n",
       "184                    105                  45      0.090828   3364.11   \n",
       "183                    100                  45      0.069432   2772.08   \n",
       "182                     77                  45      0.069486   2530.52   \n",
       "\n",
       "     distance  \n",
       "186   1479970  \n",
       "185    667330  \n",
       "184   1373720  \n",
       "183    615080  \n",
       "182    513160  "
      ]
     },
     "execution_count": 17,
     "metadata": {},
     "output_type": "execute_result"
    }
   ],
   "source": [
    "df.sort_values('date', inplace=True)\n",
    "df.head()"
   ]
  },
  {
   "cell_type": "code",
   "execution_count": 18,
   "metadata": {
    "ExecuteTime": {
     "end_time": "2020-10-21T10:47:27.858215Z",
     "start_time": "2020-10-21T10:47:27.849245Z"
    },
    "collapsed": true
   },
   "outputs": [],
   "source": [
    "df['calories'] = df['calories'].shift(1)\n",
    "df['distance'] = df['distance'].shift(1)"
   ]
  },
  {
   "cell_type": "code",
   "execution_count": 19,
   "metadata": {
    "ExecuteTime": {
     "end_time": "2020-10-21T10:47:29.247795Z",
     "start_time": "2020-10-21T10:47:29.221706Z"
    }
   },
   "outputs": [],
   "source": [
    "df = df.dropna()"
   ]
  },
  {
   "cell_type": "code",
   "execution_count": 20,
   "metadata": {
    "ExecuteTime": {
     "end_time": "2020-10-21T10:47:30.095089Z",
     "start_time": "2020-10-21T10:47:30.016630Z"
    }
   },
   "outputs": [
    {
     "data": {
      "text/html": [
       "<div>\n",
       "<style scoped>\n",
       "    .dataframe tbody tr th:only-of-type {\n",
       "        vertical-align: middle;\n",
       "    }\n",
       "\n",
       "    .dataframe tbody tr th {\n",
       "        vertical-align: top;\n",
       "    }\n",
       "\n",
       "    .dataframe thead th {\n",
       "        text-align: right;\n",
       "    }\n",
       "</style>\n",
       "<table border=\"1\" class=\"dataframe\">\n",
       "  <thead>\n",
       "    <tr style=\"text-align: right;\">\n",
       "      <th></th>\n",
       "      <th>date</th>\n",
       "      <th>sleep_log_entry_id</th>\n",
       "      <th>timestamp</th>\n",
       "      <th>overall_score</th>\n",
       "      <th>composition_score</th>\n",
       "      <th>revitalization_score</th>\n",
       "      <th>duration_score</th>\n",
       "      <th>deep_sleep_in_minutes</th>\n",
       "      <th>resting_heart_rate</th>\n",
       "      <th>restlessness</th>\n",
       "      <th>calories</th>\n",
       "      <th>distance</th>\n",
       "    </tr>\n",
       "  </thead>\n",
       "  <tbody>\n",
       "    <tr>\n",
       "      <th>185</th>\n",
       "      <td>2020-04-11</td>\n",
       "      <td>26692362988</td>\n",
       "      <td>2020-04-11T08:09:00Z</td>\n",
       "      <td>86</td>\n",
       "      <td>22</td>\n",
       "      <td>21</td>\n",
       "      <td>43</td>\n",
       "      <td>93</td>\n",
       "      <td>46</td>\n",
       "      <td>0.070526</td>\n",
       "      <td>3635.23</td>\n",
       "      <td>1479970.0</td>\n",
       "    </tr>\n",
       "    <tr>\n",
       "      <th>184</th>\n",
       "      <td>2020-04-12</td>\n",
       "      <td>26705213673</td>\n",
       "      <td>2020-04-12T08:29:30Z</td>\n",
       "      <td>80</td>\n",
       "      <td>22</td>\n",
       "      <td>20</td>\n",
       "      <td>38</td>\n",
       "      <td>105</td>\n",
       "      <td>45</td>\n",
       "      <td>0.090828</td>\n",
       "      <td>3183.30</td>\n",
       "      <td>667330.0</td>\n",
       "    </tr>\n",
       "    <tr>\n",
       "      <th>183</th>\n",
       "      <td>2020-04-13</td>\n",
       "      <td>26717633856</td>\n",
       "      <td>2020-04-13T08:58:30Z</td>\n",
       "      <td>89</td>\n",
       "      <td>22</td>\n",
       "      <td>22</td>\n",
       "      <td>45</td>\n",
       "      <td>100</td>\n",
       "      <td>45</td>\n",
       "      <td>0.069432</td>\n",
       "      <td>3364.11</td>\n",
       "      <td>1373720.0</td>\n",
       "    </tr>\n",
       "    <tr>\n",
       "      <th>182</th>\n",
       "      <td>2020-04-14</td>\n",
       "      <td>26733358149</td>\n",
       "      <td>2020-04-14T08:14:00Z</td>\n",
       "      <td>85</td>\n",
       "      <td>21</td>\n",
       "      <td>22</td>\n",
       "      <td>42</td>\n",
       "      <td>77</td>\n",
       "      <td>45</td>\n",
       "      <td>0.069486</td>\n",
       "      <td>2772.08</td>\n",
       "      <td>615080.0</td>\n",
       "    </tr>\n",
       "    <tr>\n",
       "      <th>181</th>\n",
       "      <td>2020-04-15</td>\n",
       "      <td>26751587476</td>\n",
       "      <td>2020-04-15T08:15:30Z</td>\n",
       "      <td>82</td>\n",
       "      <td>21</td>\n",
       "      <td>20</td>\n",
       "      <td>41</td>\n",
       "      <td>104</td>\n",
       "      <td>46</td>\n",
       "      <td>0.089269</td>\n",
       "      <td>2530.52</td>\n",
       "      <td>513160.0</td>\n",
       "    </tr>\n",
       "  </tbody>\n",
       "</table>\n",
       "</div>"
      ],
      "text/plain": [
       "           date  sleep_log_entry_id             timestamp  overall_score  \\\n",
       "185  2020-04-11         26692362988  2020-04-11T08:09:00Z             86   \n",
       "184  2020-04-12         26705213673  2020-04-12T08:29:30Z             80   \n",
       "183  2020-04-13         26717633856  2020-04-13T08:58:30Z             89   \n",
       "182  2020-04-14         26733358149  2020-04-14T08:14:00Z             85   \n",
       "181  2020-04-15         26751587476  2020-04-15T08:15:30Z             82   \n",
       "\n",
       "     composition_score  revitalization_score  duration_score  \\\n",
       "185                 22                    21              43   \n",
       "184                 22                    20              38   \n",
       "183                 22                    22              45   \n",
       "182                 21                    22              42   \n",
       "181                 21                    20              41   \n",
       "\n",
       "     deep_sleep_in_minutes  resting_heart_rate  restlessness  calories  \\\n",
       "185                     93                  46      0.070526   3635.23   \n",
       "184                    105                  45      0.090828   3183.30   \n",
       "183                    100                  45      0.069432   3364.11   \n",
       "182                     77                  45      0.069486   2772.08   \n",
       "181                    104                  46      0.089269   2530.52   \n",
       "\n",
       "      distance  \n",
       "185  1479970.0  \n",
       "184   667330.0  \n",
       "183  1373720.0  \n",
       "182   615080.0  \n",
       "181   513160.0  "
      ]
     },
     "execution_count": 20,
     "metadata": {},
     "output_type": "execute_result"
    }
   ],
   "source": [
    "df.head()"
   ]
  },
  {
   "cell_type": "markdown",
   "metadata": {},
   "source": [
    "## Correlations"
   ]
  },
  {
   "cell_type": "markdown",
   "metadata": {},
   "source": [
    "Let's now see how `calories`, `distance` and `overall_score` relate:"
   ]
  },
  {
   "cell_type": "code",
   "execution_count": 22,
   "metadata": {
    "ExecuteTime": {
     "end_time": "2020-10-21T10:49:34.081368Z",
     "start_time": "2020-10-21T10:49:32.955233Z"
    }
   },
   "outputs": [
    {
     "name": "stderr",
     "output_type": "stream",
     "text": [
      "<ipython-input-22-e057776029d0>:2: UserWarning:\n",
      "\n",
      "To output multiple subplots, the figure containing the passed axes is being cleared\n",
      "\n"
     ]
    },
    {
     "data": {
      "text/plain": [
       "array([[<matplotlib.axes._subplots.AxesSubplot object at 0x7f1bc89bdb50>,\n",
       "        <matplotlib.axes._subplots.AxesSubplot object at 0x7f1bc87e7610>,\n",
       "        <matplotlib.axes._subplots.AxesSubplot object at 0x7f1bc89fca90>],\n",
       "       [<matplotlib.axes._subplots.AxesSubplot object at 0x7f1bc8628ee0>,\n",
       "        <matplotlib.axes._subplots.AxesSubplot object at 0x7f1bc8a83c10>,\n",
       "        <matplotlib.axes._subplots.AxesSubplot object at 0x7f1bc98fcca0>],\n",
       "       [<matplotlib.axes._subplots.AxesSubplot object at 0x7f1bc98fc9d0>,\n",
       "        <matplotlib.axes._subplots.AxesSubplot object at 0x7f1bc8752640>,\n",
       "        <matplotlib.axes._subplots.AxesSubplot object at 0x7f1bca115700>]],\n",
       "      dtype=object)"
      ]
     },
     "execution_count": 22,
     "metadata": {},
     "output_type": "execute_result"
    },
    {
     "data": {
      "image/png": "[encoded data removed]",
      "text/plain": [
       "<Figure size 864x864 with 9 Axes>"
      ]
     },
     "metadata": {
      "needs_background": "light"
     },
     "output_type": "display_data"
    }
   ],
   "source": [
    "plt.figure(figsize=(12, 12))\n",
    "pd.plotting.scatter_matrix(df[['overall_score', 'calories', 'distance']], ax=plt.gca())"
   ]
  },
  {
   "cell_type": "code",
   "execution_count": 25,
   "metadata": {
    "ExecuteTime": {
     "end_time": "2020-10-21T10:53:42.156784Z",
     "start_time": "2020-10-21T10:53:41.787138Z"
    }
   },
   "outputs": [
    {
     "name": "stdout",
     "output_type": "stream",
     "text": [
      "                       sleep_log_entry_id  overall_score  composition_score  \\\n",
      "sleep_log_entry_id               1.000000      -0.165373          -0.169731   \n",
      "overall_score                   -0.165373       1.000000           0.643700   \n",
      "composition_score               -0.169731       0.643700           1.000000   \n",
      "revitalization_score            -0.016472       0.563308           0.220811   \n",
      "duration_score                  -0.143677       0.823823           0.275541   \n",
      "deep_sleep_in_minutes            0.023140       0.462706           0.435513   \n",
      "resting_heart_rate              -0.351061       0.166790           0.110244   \n",
      "restlessness                     0.111687      -0.448020          -0.253037   \n",
      "calories                        -0.125984      -0.120933          -0.032380   \n",
      "distance                        -0.150751      -0.030205          -0.045481   \n",
      "\n",
      "                       revitalization_score  duration_score  \\\n",
      "sleep_log_entry_id                -0.016472       -0.143677   \n",
      "overall_score                      0.563308        0.823823   \n",
      "composition_score                  0.220811        0.275541   \n",
      "revitalization_score               1.000000        0.156313   \n",
      "duration_score                     0.156313        1.000000   \n",
      "deep_sleep_in_minutes              0.138840        0.371716   \n",
      "resting_heart_rate                 0.181286        0.085994   \n",
      "restlessness                      -0.578604       -0.203460   \n",
      "calories                          -0.033440       -0.145439   \n",
      "distance                           0.035565       -0.039924   \n",
      "\n",
      "                       deep_sleep_in_minutes  resting_heart_rate  \\\n",
      "sleep_log_entry_id                  0.023140           -0.351061   \n",
      "overall_score                       0.462706            0.166790   \n",
      "composition_score                   0.435513            0.110244   \n",
      "revitalization_score                0.138840            0.181286   \n",
      "duration_score                      0.371716            0.085994   \n",
      "deep_sleep_in_minutes               1.000000           -0.015149   \n",
      "resting_heart_rate                 -0.015149            1.000000   \n",
      "restlessness                       -0.182341           -0.106066   \n",
      "calories                            0.028959           -0.066521   \n",
      "distance                            0.025332           -0.030953   \n",
      "\n",
      "                       restlessness  calories  distance  \n",
      "sleep_log_entry_id         0.111687 -0.125984 -0.150751  \n",
      "overall_score             -0.448020 -0.120933 -0.030205  \n",
      "composition_score         -0.253037 -0.032380 -0.045481  \n",
      "revitalization_score      -0.578604 -0.033440  0.035565  \n",
      "duration_score            -0.203460 -0.145439 -0.039924  \n",
      "deep_sleep_in_minutes     -0.182341  0.028959  0.025332  \n",
      "resting_heart_rate        -0.106066 -0.066521 -0.030953  \n",
      "restlessness               1.000000 -0.059198 -0.021329  \n",
      "calories                  -0.059198  1.000000  0.912616  \n",
      "distance                  -0.021329  0.912616  1.000000  \n"
     ]
    },
    {
     "data": {
      "image/png": "[encoded data removed]",
      "text/plain": [
       "<Figure size 432x288 with 2 Axes>"
      ]
     },
     "metadata": {
      "needs_background": "light"
     },
     "output_type": "display_data"
    }
   ],
   "source": [
    "import seaborn as sns\n",
    "corr = df.corr()\n",
    "ax = sns.heatmap(\n",
    "    corr, \n",
    "    vmin=-1, vmax=1, center=0,\n",
    "    cmap=sns.diverging_palette(20, 220, n=200),\n",
    "    square=True\n",
    ")\n",
    "ax.set_xticklabels(\n",
    "    ax.get_xticklabels(),\n",
    "    rotation=45,\n",
    "    horizontalalignment='right'\n",
    ");\n",
    "print(corr)"
   ]
  },
  {
   "cell_type": "markdown",
   "metadata": {},
   "source": [
    "Uh-oh. Looks like `calories` correlates minorly with `overall_score`, and `distance` really does not correlate at all. `calories` further has a moderate effect on `duration_score`, and that's about it.\n",
    "\n",
    "So, this data does not support predicting sleep quality through activity levels. Better luck next time!"
   ]
  }
 ],
 "metadata": {
  "kernelspec": {
   "display_name": "Python 3.8 ML",
   "language": "python",
   "name": "py38-ml"
  },
  "language_info": {
   "codemirror_mode": {
    "name": "ipython",
    "version": 3
   },
   "file_extension": ".py",
   "mimetype": "text/x-python",
   "name": "python",
   "nbconvert_exporter": "python",
   "pygments_lexer": "ipython3",
   "version": "3.8.2"
  },
  "latex_envs": {
   "LaTeX_envs_menu_present": true,
   "autoclose": false,
   "autocomplete": true,
   "bibliofile": "biblio.bib",
   "cite_by": "apalike",
   "current_citInitial": 1,
   "eqLabelWithNumbers": true,
   "eqNumInitial": 1,
   "hotkeys": {
    "equation": "Ctrl-E",
    "itemize": "Ctrl-I"
   },
   "labels_anchors": false,
   "latex_user_defs": false,
   "report_style_numbering": false,
   "user_envs_cfg": false
  }
 },
 "nbformat": 4,
 "nbformat_minor": 2
}
