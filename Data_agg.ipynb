{
 "cells": [
  {
   "cell_type": "markdown",
   "metadata": {},
   "source": [
    "# Data aggregation"
   ]
  },
  {
   "cell_type": "markdown",
   "metadata": {},
   "source": [
    "Fitbit exports data as a ton of `.json` and `.csv` files, that are not necessarily optimised for analysis. In this notebook, I will collect and aggregate the data into a table that collects data per day. "
   ]
  },
  {
   "cell_type": "markdown",
   "metadata": {},
   "source": [
    "## Exploration & file structure"
   ]
  },
  {
   "cell_type": "code",
   "execution_count": 1,
   "metadata": {
    "ExecuteTime": {
     "end_time": "2020-10-14T09:28:53.126025Z",
     "start_time": "2020-10-14T09:28:53.117789Z"
    }
   },
   "outputs": [
    {
     "name": "stdout",
     "output_type": "stream",
     "text": [
      "/home/leon/Fitbit_data\n",
      "['Data_agg.ipynb', '.ipynb_checkpoints', 'MyFitbitData.zip', 'MyFitbitData']\n"
     ]
    }
   ],
   "source": [
    "import os\n",
    "workdir = os.getcwd()\n",
    "print(workdir)\n",
    "print(os.listdir(workdir))"
   ]
  },
  {
   "cell_type": "code",
   "execution_count": 2,
   "metadata": {
    "ExecuteTime": {
     "end_time": "2020-10-14T09:29:23.952336Z",
     "start_time": "2020-10-14T09:29:23.940738Z"
    }
   },
   "outputs": [
    {
     "name": "stdout",
     "output_type": "stream",
     "text": [
      "/home/leon/Fitbit_data/MyFitbitData/LeonSchoonderwoerd\n",
      "['Application', 'Menstrual Health', 'Sleep', 'Personal & Account', 'Other', 'Nutrition', 'Stress', 'Social', 'Physical Activity']\n"
     ]
    }
   ],
   "source": [
    "os.chdir('MyFitbitData/LeonSchoonderwoerd')\n",
    "workdir = os.getcwd()\n",
    "print(workdir)\n",
    "print(os.listdir(workdir))"
   ]
  },
  {
   "cell_type": "code",
   "execution_count": 3,
   "metadata": {
    "ExecuteTime": {
     "end_time": "2020-10-14T09:29:59.570913Z",
     "start_time": "2020-10-14T09:29:59.559961Z"
    }
   },
   "outputs": [
    {
     "name": "stdout",
     "output_type": "stream",
     "text": [
      "/home/leon/Fitbit_data/MyFitbitData/LeonSchoonderwoerd/Sleep\n",
      "['Device Temperature - 2020-06-10.csv', 'Device Temperature - 2020-06-13.csv', 'Device Temperature - 2020-06-07.csv', 'Device Temperature - 2020-07-23.csv', 'Device Temperature - 2020-09-01.csv', 'Device Temperature - 2020-08-28.csv', 'Device Temperature - 2020-09-28.csv', 'Device Temperature - 2020-06-05.csv', 'Device Temperature - 2020-10-05.csv', 'Device Temperature - 2020-06-14.csv', 'Device Temperature - 2020-08-23.csv', 'Device Temperature - 2020-08-20.csv', 'Device Temperature - 2020-08-07.csv', 'Device Temperature - 2020-06-15.csv', 'Device Temperature - 2020-07-28.csv', 'Device Temperature - 2020-08-09.csv', 'Device Temperature - 2020-07-16.csv', 'Device Temperature - 2020-09-21.csv', 'Heart Rate Variability README.txt', 'Device Temperature - 2020-06-02.csv', 'Device Temperature - 2020-07-10.csv', 'Device Temperature - 2020-06-12.csv', 'Device Temperature - 2020-06-23.csv', 'Device Temperature - 2020-09-27.csv', 'Device Temperature - 2020-10-11.csv', 'Device Temperature - 2020-08-10.csv', 'Device Temperature - 2020-06-26.csv', 'Device Temperature - 2020-07-11.csv', 'Device Temperature - 2020-07-26.csv', 'Device Temperature - 2020-08-11.csv', 'Device Temperature - 2020-10-08.csv', 'Device Temperature - 2020-08-02.csv', 'sleep-2020-05-08.json', 'Device Temperature - 2020-10-14.csv', 'Device Temperature - 2020-09-06.csv', 'Device Temperature - 2020-06-03.csv', 'Device Temperature - 2020-07-20.csv', 'Device Temperature - 2020-10-03.csv', 'Device Temperature - 2020-07-29.csv', 'Device Temperature - 2020-08-25.csv', 'Device Temperature - 2020-08-14.csv', 'Device Temperature - 2020-07-08.csv', 'Respiratory Rate README.txt', 'Device Temperature - 2020-09-17.csv', 'Device Temperature - 2020-07-24.csv', 'Device Temperature - 2020-10-06.csv', 'Device Temperature - 2020-06-08.csv', 'Device Temperature - 2020-06-30.csv', 'Device Temperature - 2020-08-24.csv', 'Device Temperature - 2020-10-13.csv', 'Device Temperature - 2020-09-19.csv', 'Device Temperature - 2020-09-29.csv', 'Device Temperature - 2020-07-03.csv', 'Device Temperature - 2020-08-16.csv', 'Device Temperature - 2020-07-21.csv', 'Device Temperature - 2020-07-14.csv', 'Device Temperature - 2020-08-01.csv', 'Device Temperature - 2020-09-02.csv', 'Device Temperature - 2020-10-12.csv', 'Device Temperature - 2020-08-29.csv', 'Device Temperature - 2020-05-27.csv', 'sleep-2020-10-05.json', 'Device Temperature - 2020-09-20.csv', 'Device Temperature - 2020-10-02.csv', 'Device Temperature - 2020-08-22.csv', 'Device Temperature - 2020-09-16.csv', 'Device Temperature - 2020-08-04.csv', 'Device Temperature - 2020-05-26.csv', 'Device Temperature - 2020-06-17.csv', 'Device Temperature - 2020-06-18.csv', 'Device Temperature - 2020-08-15.csv', 'Device Temperature - 2020-07-01.csv', 'Device Temperature - 2020-08-12.csv', 'Device Temperature - 2020-09-07.csv', 'Device Temperature - 2020-05-31.csv', 'Device Temperature - 2020-05-28.csv', 'Device Temperature - 2020-07-25.csv', 'Device Temperature - 2020-08-06.csv', 'sleep-2020-09-05.json', 'Device Temperature - 2020-07-15.csv', 'Device Temperature - 2020-06-16.csv', 'Device Temperature - 2020-07-19.csv', 'Device Temperature - 2020-06-20.csv', 'Device Temperature - 2020-07-13.csv', 'Device Temperature - 2020-09-24.csv', 'Device Temperature - 2020-09-09.csv', 'Device Temperature - 2020-09-25.csv', 'sleep_score.csv', 'Device Temperature - 2020-07-07.csv', 'Device Temperature - 2020-07-27.csv', 'Device Temperature - 2020-06-01.csv', 'Device Temperature - 2020-05-29.csv', 'Device Temperature - 2020-09-12.csv', 'Device Temperature - 2020-08-08.csv', 'Device Temperature - 2020-08-05.csv', 'Device Temperature - 2020-05-30.csv', 'Device Temperature - 2020-09-15.csv', 'Device Temperature - 2020-09-26.csv', 'Device Temperature - 2020-09-18.csv', 'Device Temperature - 2020-09-13.csv', 'Device Temperature - 2020-07-18.csv', 'Device Temperature - 2020-10-10.csv', 'Device Temperature - 2020-09-14.csv', 'Device Temperature - 2020-09-04.csv', 'Device Temperature - 2020-07-31.csv', 'Device Temperature - 2020-08-17.csv', 'Device Temperature - 2020-08-27.csv', 'Device Temperature - 2020-08-31.csv', 'Device Temperature - 2020-10-01.csv', 'Device Temperature - 2020-07-30.csv', 'Device Temperature - 2020-09-10.csv', 'Device Temperature - 2020-07-02.csv', 'Device Temperature - 2020-07-22.csv', 'Device Temperature - 2020-07-17.csv', 'Device Temperature - 2020-08-18.csv', 'Device Temperature - 2020-06-21.csv', 'Device Temperature - 2020-06-11.csv', 'Device Temperature - 2020-10-07.csv', 'Device Temperature - 2020-09-05.csv', 'Device Temperature - 2020-06-29.csv', 'sleep-2020-07-07.json', 'Device Temperature - 2020-09-08.csv', 'Device Temperature - 2020-06-24.csv', 'Device Temperature - 2020-06-25.csv', 'Device Temperature - 2020-06-09.csv', 'Device Temperature - 2020-09-22.csv', 'Device Temperature - 2020-09-03.csv', 'Device Temperature - 2020-08-03.csv', 'Device Temperature - 2020-10-04.csv', 'Device Temperature - 2020-08-26.csv', 'sleep-2020-06-07.json', 'Device Temperature - 2020-10-09.csv', 'Device Temperature - 2020-06-06.csv', 'Device Temperature - 2020-06-19.csv', 'sleep-2020-04-08.json', 'Device Temperature - 2020-08-21.csv', 'Device Temperature - 2020-09-11.csv', 'Device Temperature - 2020-06-22.csv', 'Device Temperature - 2020-07-04.csv', 'Device Temperature - 2020-08-13.csv', 'Device Temperature - 2020-07-12.csv', 'Device Temperature - 2020-07-05.csv', 'Device Temperature - 2020-06-27.csv', 'Device Temperature - 2020-09-23.csv', 'Device Temperature - 2020-07-09.csv', 'Device Temperature - 2020-06-04.csv', 'sleep-2020-08-06.json', 'Device Temperature - 2020-08-19.csv', 'Device Temperature - 2020-07-06.csv', 'Device Temperature - 2020-09-30.csv', 'Device Temperature - 2020-06-28.csv', 'Device Temperature - 2020-08-30.csv']\n"
     ]
    }
   ],
   "source": [
    "os.chdir('Sleep')\n",
    "workdir = os.getcwd()\n",
    "print(workdir)\n",
    "print(os.listdir(workdir))"
   ]
  },
  {
   "cell_type": "markdown",
   "metadata": {},
   "source": [
    "As we see, there is a whole list of separate files here. Similar results are found in the other folders."
   ]
  },
  {
   "cell_type": "markdown",
   "metadata": {},
   "source": [
    "## Aggregating sleep data"
   ]
  },
  {
   "cell_type": "markdown",
   "metadata": {},
   "source": [
    "Let's first define a few directories, so we don't have to keep using `os.chdir()`."
   ]
  },
  {
   "cell_type": "code",
   "execution_count": 5,
   "metadata": {
    "ExecuteTime": {
     "end_time": "2020-10-14T09:33:02.519251Z",
     "start_time": "2020-10-14T09:33:02.512494Z"
    }
   },
   "outputs": [
    {
     "name": "stdout",
     "output_type": "stream",
     "text": [
      "/home/leon/Fitbit_data\n"
     ]
    }
   ],
   "source": [
    "os.chdir('../../..')\n",
    "print(os.getcwd())"
   ]
  },
  {
   "cell_type": "code",
   "execution_count": 8,
   "metadata": {
    "ExecuteTime": {
     "end_time": "2020-10-14T09:35:09.493050Z",
     "start_time": "2020-10-14T09:35:09.482799Z"
    }
   },
   "outputs": [
    {
     "name": "stdout",
     "output_type": "stream",
     "text": [
      "['Application', 'Menstrual Health', 'Sleep', 'Personal & Account', 'Other', 'Nutrition', 'Stress', 'Social', 'Physical Activity']\n"
     ]
    }
   ],
   "source": [
    "main_dir = os.getcwd()\n",
    "username = 'LeonSchoonderwoerd'\n",
    "data_dir = os.path.join(main_dir, 'MyFitbitData', username)\n",
    "data_dirs = os.listdir(data_dir)\n",
    "print(data_dirs)"
   ]
  },
  {
   "cell_type": "markdown",
   "metadata": {},
   "source": [
    "### Basic exploration"
   ]
  },
  {
   "cell_type": "markdown",
   "metadata": {},
   "source": [
    "Now, let's look at the `Sleep` data. We'll ignore the `Device Temperature` files and focus on the `Sleep` files:"
   ]
  },
  {
   "cell_type": "code",
   "execution_count": 11,
   "metadata": {
    "ExecuteTime": {
     "end_time": "2020-10-14T09:38:15.540906Z",
     "start_time": "2020-10-14T09:38:15.531392Z"
    }
   },
   "outputs": [
    {
     "name": "stdout",
     "output_type": "stream",
     "text": [
      "sleep-2020-05-08.json\n",
      "sleep-2020-10-05.json\n",
      "sleep-2020-09-05.json\n",
      "sleep_score.csv\n",
      "sleep-2020-07-07.json\n",
      "sleep-2020-06-07.json\n",
      "sleep-2020-04-08.json\n",
      "sleep-2020-08-06.json\n"
     ]
    }
   ],
   "source": [
    "for filename in os.listdir(os.path.join(data_dir, 'Sleep')):\n",
    "    if 'sleep' in filename:\n",
    "        print(filename)"
   ]
  },
  {
   "cell_type": "markdown",
   "metadata": {},
   "source": [
    "Alright! We have a single `.csv` with sleep scores, as well as a `.json` for each month, containing details of sleep that night. Let's first load the sleep scores, and take a look."
   ]
  },
  {
   "cell_type": "code",
   "execution_count": 31,
   "metadata": {
    "ExecuteTime": {
     "end_time": "2020-10-14T10:04:42.982691Z",
     "start_time": "2020-10-14T10:04:42.963544Z"
    }
   },
   "outputs": [
    {
     "data": {
      "text/html": [
       "<div>\n",
       "<style scoped>\n",
       "    .dataframe tbody tr th:only-of-type {\n",
       "        vertical-align: middle;\n",
       "    }\n",
       "\n",
       "    .dataframe tbody tr th {\n",
       "        vertical-align: top;\n",
       "    }\n",
       "\n",
       "    .dataframe thead th {\n",
       "        text-align: right;\n",
       "    }\n",
       "</style>\n",
       "<table border=\"1\" class=\"dataframe\">\n",
       "  <thead>\n",
       "    <tr style=\"text-align: right;\">\n",
       "      <th></th>\n",
       "      <th>sleep_log_entry_id</th>\n",
       "      <th>timestamp</th>\n",
       "      <th>overall_score</th>\n",
       "      <th>composition_score</th>\n",
       "      <th>revitalization_score</th>\n",
       "      <th>duration_score</th>\n",
       "      <th>deep_sleep_in_minutes</th>\n",
       "      <th>resting_heart_rate</th>\n",
       "      <th>restlessness</th>\n",
       "    </tr>\n",
       "  </thead>\n",
       "  <tbody>\n",
       "    <tr>\n",
       "      <th>0</th>\n",
       "      <td>29272484200</td>\n",
       "      <td>2020-10-14T08:37:30Z</td>\n",
       "      <td>79</td>\n",
       "      <td>21</td>\n",
       "      <td>21</td>\n",
       "      <td>37</td>\n",
       "      <td>74</td>\n",
       "      <td>45</td>\n",
       "      <td>0.089061</td>\n",
       "    </tr>\n",
       "    <tr>\n",
       "      <th>1</th>\n",
       "      <td>29258226487</td>\n",
       "      <td>2020-10-13T08:34:30Z</td>\n",
       "      <td>83</td>\n",
       "      <td>18</td>\n",
       "      <td>21</td>\n",
       "      <td>44</td>\n",
       "      <td>66</td>\n",
       "      <td>45</td>\n",
       "      <td>0.104386</td>\n",
       "    </tr>\n",
       "    <tr>\n",
       "      <th>2</th>\n",
       "      <td>29239981449</td>\n",
       "      <td>2020-10-12T08:36:00Z</td>\n",
       "      <td>78</td>\n",
       "      <td>22</td>\n",
       "      <td>20</td>\n",
       "      <td>36</td>\n",
       "      <td>87</td>\n",
       "      <td>45</td>\n",
       "      <td>0.089728</td>\n",
       "    </tr>\n",
       "    <tr>\n",
       "      <th>3</th>\n",
       "      <td>29227910597</td>\n",
       "      <td>2020-10-11T09:26:00Z</td>\n",
       "      <td>80</td>\n",
       "      <td>19</td>\n",
       "      <td>22</td>\n",
       "      <td>39</td>\n",
       "      <td>75</td>\n",
       "      <td>45</td>\n",
       "      <td>0.066084</td>\n",
       "    </tr>\n",
       "    <tr>\n",
       "      <th>4</th>\n",
       "      <td>29215246798</td>\n",
       "      <td>2020-10-10T09:23:00Z</td>\n",
       "      <td>88</td>\n",
       "      <td>20</td>\n",
       "      <td>22</td>\n",
       "      <td>46</td>\n",
       "      <td>93</td>\n",
       "      <td>45</td>\n",
       "      <td>0.056881</td>\n",
       "    </tr>\n",
       "  </tbody>\n",
       "</table>\n",
       "</div>"
      ],
      "text/plain": [
       "   sleep_log_entry_id             timestamp  overall_score  composition_score  \\\n",
       "0         29272484200  2020-10-14T08:37:30Z             79                 21   \n",
       "1         29258226487  2020-10-13T08:34:30Z             83                 18   \n",
       "2         29239981449  2020-10-12T08:36:00Z             78                 22   \n",
       "3         29227910597  2020-10-11T09:26:00Z             80                 19   \n",
       "4         29215246798  2020-10-10T09:23:00Z             88                 20   \n",
       "\n",
       "   revitalization_score  duration_score  deep_sleep_in_minutes  \\\n",
       "0                    21              37                     74   \n",
       "1                    21              44                     66   \n",
       "2                    20              36                     87   \n",
       "3                    22              39                     75   \n",
       "4                    22              46                     93   \n",
       "\n",
       "   resting_heart_rate  restlessness  \n",
       "0                  45      0.089061  \n",
       "1                  45      0.104386  \n",
       "2                  45      0.089728  \n",
       "3                  45      0.066084  \n",
       "4                  45      0.056881  "
      ]
     },
     "execution_count": 31,
     "metadata": {},
     "output_type": "execute_result"
    }
   ],
   "source": [
    "import pandas as pd\n",
    "sleep_scores = pd.read_csv(os.path.join(data_dir, 'Sleep', 'sleep_score.csv'))\n",
    "sleep_scores.head()"
   ]
  },
  {
   "cell_type": "code",
   "execution_count": 32,
   "metadata": {
    "ExecuteTime": {
     "end_time": "2020-10-14T10:04:45.507344Z",
     "start_time": "2020-10-14T10:04:45.437142Z"
    }
   },
   "outputs": [
    {
     "data": {
      "text/html": [
       "<div>\n",
       "<style scoped>\n",
       "    .dataframe tbody tr th:only-of-type {\n",
       "        vertical-align: middle;\n",
       "    }\n",
       "\n",
       "    .dataframe tbody tr th {\n",
       "        vertical-align: top;\n",
       "    }\n",
       "\n",
       "    .dataframe thead th {\n",
       "        text-align: right;\n",
       "    }\n",
       "</style>\n",
       "<table border=\"1\" class=\"dataframe\">\n",
       "  <thead>\n",
       "    <tr style=\"text-align: right;\">\n",
       "      <th></th>\n",
       "      <th>sleep_log_entry_id</th>\n",
       "      <th>overall_score</th>\n",
       "      <th>composition_score</th>\n",
       "      <th>revitalization_score</th>\n",
       "      <th>duration_score</th>\n",
       "      <th>deep_sleep_in_minutes</th>\n",
       "      <th>resting_heart_rate</th>\n",
       "      <th>restlessness</th>\n",
       "    </tr>\n",
       "  </thead>\n",
       "  <tbody>\n",
       "    <tr>\n",
       "      <th>count</th>\n",
       "      <td>1.870000e+02</td>\n",
       "      <td>187.000000</td>\n",
       "      <td>187.000000</td>\n",
       "      <td>187.000000</td>\n",
       "      <td>187.000000</td>\n",
       "      <td>187.000000</td>\n",
       "      <td>187.000000</td>\n",
       "      <td>187.000000</td>\n",
       "    </tr>\n",
       "    <tr>\n",
       "      <th>mean</th>\n",
       "      <td>2.799698e+10</td>\n",
       "      <td>81.294118</td>\n",
       "      <td>20.358289</td>\n",
       "      <td>20.930481</td>\n",
       "      <td>40.005348</td>\n",
       "      <td>88.165775</td>\n",
       "      <td>46.641711</td>\n",
       "      <td>0.079579</td>\n",
       "    </tr>\n",
       "    <tr>\n",
       "      <th>std</th>\n",
       "      <td>7.531101e+08</td>\n",
       "      <td>5.116295</td>\n",
       "      <td>1.935790</td>\n",
       "      <td>1.926187</td>\n",
       "      <td>3.378454</td>\n",
       "      <td>19.986267</td>\n",
       "      <td>1.676842</td>\n",
       "      <td>0.020694</td>\n",
       "    </tr>\n",
       "    <tr>\n",
       "      <th>min</th>\n",
       "      <td>2.668045e+10</td>\n",
       "      <td>52.000000</td>\n",
       "      <td>13.000000</td>\n",
       "      <td>12.000000</td>\n",
       "      <td>24.000000</td>\n",
       "      <td>23.000000</td>\n",
       "      <td>44.000000</td>\n",
       "      <td>0.042386</td>\n",
       "    </tr>\n",
       "    <tr>\n",
       "      <th>25%</th>\n",
       "      <td>2.737396e+10</td>\n",
       "      <td>79.000000</td>\n",
       "      <td>19.000000</td>\n",
       "      <td>20.000000</td>\n",
       "      <td>38.500000</td>\n",
       "      <td>76.000000</td>\n",
       "      <td>45.000000</td>\n",
       "      <td>0.065348</td>\n",
       "    </tr>\n",
       "    <tr>\n",
       "      <th>50%</th>\n",
       "      <td>2.800923e+10</td>\n",
       "      <td>82.000000</td>\n",
       "      <td>21.000000</td>\n",
       "      <td>21.000000</td>\n",
       "      <td>41.000000</td>\n",
       "      <td>89.000000</td>\n",
       "      <td>46.000000</td>\n",
       "      <td>0.076162</td>\n",
       "    </tr>\n",
       "    <tr>\n",
       "      <th>75%</th>\n",
       "      <td>2.864144e+10</td>\n",
       "      <td>85.000000</td>\n",
       "      <td>22.000000</td>\n",
       "      <td>22.000000</td>\n",
       "      <td>42.000000</td>\n",
       "      <td>101.500000</td>\n",
       "      <td>48.000000</td>\n",
       "      <td>0.089287</td>\n",
       "    </tr>\n",
       "    <tr>\n",
       "      <th>max</th>\n",
       "      <td>2.927248e+10</td>\n",
       "      <td>92.000000</td>\n",
       "      <td>24.000000</td>\n",
       "      <td>24.000000</td>\n",
       "      <td>46.000000</td>\n",
       "      <td>151.000000</td>\n",
       "      <td>53.000000</td>\n",
       "      <td>0.198643</td>\n",
       "    </tr>\n",
       "  </tbody>\n",
       "</table>\n",
       "</div>"
      ],
      "text/plain": [
       "       sleep_log_entry_id  overall_score  composition_score  \\\n",
       "count        1.870000e+02     187.000000         187.000000   \n",
       "mean         2.799698e+10      81.294118          20.358289   \n",
       "std          7.531101e+08       5.116295           1.935790   \n",
       "min          2.668045e+10      52.000000          13.000000   \n",
       "25%          2.737396e+10      79.000000          19.000000   \n",
       "50%          2.800923e+10      82.000000          21.000000   \n",
       "75%          2.864144e+10      85.000000          22.000000   \n",
       "max          2.927248e+10      92.000000          24.000000   \n",
       "\n",
       "       revitalization_score  duration_score  deep_sleep_in_minutes  \\\n",
       "count            187.000000      187.000000             187.000000   \n",
       "mean              20.930481       40.005348              88.165775   \n",
       "std                1.926187        3.378454              19.986267   \n",
       "min               12.000000       24.000000              23.000000   \n",
       "25%               20.000000       38.500000              76.000000   \n",
       "50%               21.000000       41.000000              89.000000   \n",
       "75%               22.000000       42.000000             101.500000   \n",
       "max               24.000000       46.000000             151.000000   \n",
       "\n",
       "       resting_heart_rate  restlessness  \n",
       "count          187.000000    187.000000  \n",
       "mean            46.641711      0.079579  \n",
       "std              1.676842      0.020694  \n",
       "min             44.000000      0.042386  \n",
       "25%             45.000000      0.065348  \n",
       "50%             46.000000      0.076162  \n",
       "75%             48.000000      0.089287  \n",
       "max             53.000000      0.198643  "
      ]
     },
     "execution_count": 32,
     "metadata": {},
     "output_type": "execute_result"
    }
   ],
   "source": [
    "sleep_scores.describe()"
   ]
  },
  {
   "cell_type": "code",
   "execution_count": 33,
   "metadata": {
    "ExecuteTime": {
     "end_time": "2020-10-14T10:05:59.260275Z",
     "start_time": "2020-10-14T10:05:59.245391Z"
    }
   },
   "outputs": [
    {
     "name": "stdout",
     "output_type": "stream",
     "text": [
      "<class 'pandas.core.frame.DataFrame'>\n",
      "RangeIndex: 187 entries, 0 to 186\n",
      "Data columns (total 9 columns):\n",
      " #   Column                 Non-Null Count  Dtype  \n",
      "---  ------                 --------------  -----  \n",
      " 0   sleep_log_entry_id     187 non-null    int64  \n",
      " 1   timestamp              187 non-null    object \n",
      " 2   overall_score          187 non-null    int64  \n",
      " 3   composition_score      187 non-null    int64  \n",
      " 4   revitalization_score   187 non-null    int64  \n",
      " 5   duration_score         187 non-null    int64  \n",
      " 6   deep_sleep_in_minutes  187 non-null    int64  \n",
      " 7   resting_heart_rate     187 non-null    int64  \n",
      " 8   restlessness           187 non-null    float64\n",
      "dtypes: float64(1), int64(7), object(1)\n",
      "memory usage: 13.3+ KB\n"
     ]
    }
   ],
   "source": [
    "sleep_scores.info()"
   ]
  },
  {
   "cell_type": "markdown",
   "metadata": {},
   "source": [
    "Nice! We get timestamps (which seem to be defined by the time of waking), overall sleep scores, and sub-scores for different components. We can easily tell that `overall_score` is the sum of `composition_score`, `revitalization_score` and `duration_score` (whatever those may mean). We also have the amount of deep sleep, resting heart rate and a `restlessness` score, that seem to be less directly correlated to the overall score. \n",
    "\n",
    "What we'll do with this data:\n",
    "- Some quick visualisations to get a better feel.\n",
    "- Extract a `date` column from the timestamps, for later use."
   ]
  },
  {
   "cell_type": "markdown",
   "metadata": {
    "heading_collapsed": true
   },
   "source": [
    "### Visualizing sleep scores"
   ]
  },
  {
   "cell_type": "markdown",
   "metadata": {
    "hidden": true
   },
   "source": [
    "Some histograms for the different scores:"
   ]
  },
  {
   "cell_type": "code",
   "execution_count": 25,
   "metadata": {
    "ExecuteTime": {
     "end_time": "2020-10-14T09:55:00.549852Z",
     "start_time": "2020-10-14T09:54:59.488274Z"
    },
    "hidden": true
   },
   "outputs": [
    {
     "name": "stderr",
     "output_type": "stream",
     "text": [
      "<ipython-input-25-3769b47ef4cd>:5: UserWarning: To output multiple subplots, the figure containing the passed axes is being cleared\n",
      "  sleep_scores.hist(scores_of_interest, ax=plt.gca())\n"
     ]
    },
    {
     "data": {
      "text/plain": [
       "array([[<matplotlib.axes._subplots.AxesSubplot object at 0x7fbd353361f0>,\n",
       "        <matplotlib.axes._subplots.AxesSubplot object at 0x7fbd351ead60>,\n",
       "        <matplotlib.axes._subplots.AxesSubplot object at 0x7fbd3519f550>],\n",
       "       [<matplotlib.axes._subplots.AxesSubplot object at 0x7fbd35147cd0>,\n",
       "        <matplotlib.axes._subplots.AxesSubplot object at 0x7fbd350fe490>,\n",
       "        <matplotlib.axes._subplots.AxesSubplot object at 0x7fbd3512b130>],\n",
       "       [<matplotlib.axes._subplots.AxesSubplot object at 0x7fbd3512b220>,\n",
       "        <matplotlib.axes._subplots.AxesSubplot object at 0x7fbd3508d190>,\n",
       "        <matplotlib.axes._subplots.AxesSubplot object at 0x7fbd350aa9d0>]],\n",
       "      dtype=object)"
      ]
     },
     "execution_count": 25,
     "metadata": {},
     "output_type": "execute_result"
    },
    {
     "data": {
      "image/png": "[encoded data removed]",
      "text/plain": [
       "<Figure size 720x576 with 9 Axes>"
      ]
     },
     "metadata": {
      "needs_background": "light"
     },
     "output_type": "display_data"
    }
   ],
   "source": [
    "import matplotlib.pyplot as plt\n",
    "scores_of_interest = ['overall_score', 'composition_score', 'revitalization_score', 'duration_score', \n",
    "                      'deep_sleep_in_minutes', 'resting_heart_rate', 'restlessness']\n",
    "plt.figure(figsize=(10, 8))\n",
    "sleep_scores.hist(scores_of_interest, ax=plt.gca())"
   ]
  },
  {
   "cell_type": "markdown",
   "metadata": {
    "hidden": true
   },
   "source": [
    "And some scatter plots, looking only at the total score, deep sleep, heart rate and restlessness (since the sub-scores correlate *too* explicitly anyway)"
   ]
  },
  {
   "cell_type": "code",
   "execution_count": 28,
   "metadata": {
    "ExecuteTime": {
     "end_time": "2020-10-14T09:59:02.270391Z",
     "start_time": "2020-10-14T09:59:00.966862Z"
    },
    "hidden": true
   },
   "outputs": [
    {
     "name": "stderr",
     "output_type": "stream",
     "text": [
      "<ipython-input-28-26e628a2a3ff>:2: UserWarning: To output multiple subplots, the figure containing the passed axes is being cleared\n",
      "  pd.plotting.scatter_matrix(sleep_scores[['overall_score', 'deep_sleep_in_minutes', 'resting_heart_rate', 'restlessness']], ax=plt.gca())\n"
     ]
    },
    {
     "data": {
      "text/plain": [
       "array([[<matplotlib.axes._subplots.AxesSubplot object at 0x7fbd3407db50>,\n",
       "        <matplotlib.axes._subplots.AxesSubplot object at 0x7fbd340c6df0>,\n",
       "        <matplotlib.axes._subplots.AxesSubplot object at 0x7fbd342bb2b0>,\n",
       "        <matplotlib.axes._subplots.AxesSubplot object at 0x7fbd342d7310>],\n",
       "       [<matplotlib.axes._subplots.AxesSubplot object at 0x7fbd344f7cd0>,\n",
       "        <matplotlib.axes._subplots.AxesSubplot object at 0x7fbd325843d0>,\n",
       "        <matplotlib.axes._subplots.AxesSubplot object at 0x7fbd325844c0>,\n",
       "        <matplotlib.axes._subplots.AxesSubplot object at 0x7fbd325adca0>],\n",
       "       [<matplotlib.axes._subplots.AxesSubplot object at 0x7fbd3250db50>,\n",
       "        <matplotlib.axes._subplots.AxesSubplot object at 0x7fbd324c3310>,\n",
       "        <matplotlib.axes._subplots.AxesSubplot object at 0x7fbd324eba90>,\n",
       "        <matplotlib.axes._subplots.AxesSubplot object at 0x7fbd324a2250>],\n",
       "       [<matplotlib.axes._subplots.AxesSubplot object at 0x7fbd3244c9d0>,\n",
       "        <matplotlib.axes._subplots.AxesSubplot object at 0x7fbd324031c0>,\n",
       "        <matplotlib.axes._subplots.AxesSubplot object at 0x7fbd3242d940>,\n",
       "        <matplotlib.axes._subplots.AxesSubplot object at 0x7fbd343a3e50>]],\n",
       "      dtype=object)"
      ]
     },
     "execution_count": 28,
     "metadata": {},
     "output_type": "execute_result"
    },
    {
     "data": {
      "image/png": "[encoded data removed]",
      "text/plain": [
       "<Figure size 864x864 with 16 Axes>"
      ]
     },
     "metadata": {
      "needs_background": "light"
     },
     "output_type": "display_data"
    }
   ],
   "source": [
    "plt.figure(figsize=(12, 12))\n",
    "pd.plotting.scatter_matrix(sleep_scores[['overall_score', 'deep_sleep_in_minutes', 'resting_heart_rate', 'restlessness']], ax=plt.gca())"
   ]
  },
  {
   "cell_type": "markdown",
   "metadata": {
    "hidden": true
   },
   "source": [
    "Takeaways:\n",
    "- There seems to be a slight positive correlation between deep sleep and overall score, and a slight negative correlation between restlessness and overall score. Not surprising. \n",
    "- Those two features seem fairly uncorrelated between them, which is useful for later analysis\n",
    "- Because the resting heart rate is quantized to 1 bpm, the data there is stratified. No clear patterns visible by eye."
   ]
  },
  {
   "cell_type": "markdown",
   "metadata": {
    "heading_collapsed": true
   },
   "source": [
    "### Extract dates"
   ]
  },
  {
   "cell_type": "code",
   "execution_count": 36,
   "metadata": {
    "ExecuteTime": {
     "end_time": "2020-10-14T10:07:35.784084Z",
     "start_time": "2020-10-14T10:07:35.766338Z"
    },
    "hidden": true
   },
   "outputs": [
    {
     "name": "stdout",
     "output_type": "stream",
     "text": [
      "   sleep_log_entry_id             timestamp  overall_score  composition_score  \\\n",
      "0         29272484200  2020-10-14T08:37:30Z             79                 21   \n",
      "1         29258226487  2020-10-13T08:34:30Z             83                 18   \n",
      "2         29239981449  2020-10-12T08:36:00Z             78                 22   \n",
      "3         29227910597  2020-10-11T09:26:00Z             80                 19   \n",
      "4         29215246798  2020-10-10T09:23:00Z             88                 20   \n",
      "\n",
      "   revitalization_score  duration_score  deep_sleep_in_minutes  \\\n",
      "0                    21              37                     74   \n",
      "1                    21              44                     66   \n",
      "2                    20              36                     87   \n",
      "3                    22              39                     75   \n",
      "4                    22              46                     93   \n",
      "\n",
      "   resting_heart_rate  restlessness        date  \n",
      "0                  45      0.089061  2020-10-14  \n",
      "1                  45      0.104386  2020-10-13  \n",
      "2                  45      0.089728  2020-10-12  \n",
      "3                  45      0.066084  2020-10-11  \n",
      "4                  45      0.056881  2020-10-10  \n"
     ]
    }
   ],
   "source": [
    "sleep_scores['date'] = pd.to_datetime(sleep_scores['timestamp']).dt.date\n",
    "print(sleep_scores.head())"
   ]
  },
  {
   "cell_type": "markdown",
   "metadata": {},
   "source": [
    "## Getting predictor data"
   ]
  },
  {
   "cell_type": "markdown",
   "metadata": {},
   "source": [
    "Now it's time to get more data out of the many, many `.json` files we have. We *could* look at the `sleep_yyyy_mm_dd.json` files, which contain details of the sleep for each night (including for example the number of minutes spent in each sleep stage). However, it's probably more fun to see if and how physical activity affects sleep.\n",
    "\n",
    "Let's see what data we have:"
   ]
  },
  {
   "cell_type": "code",
   "execution_count": 41,
   "metadata": {
    "ExecuteTime": {
     "end_time": "2020-10-14T10:13:22.640372Z",
     "start_time": "2020-10-14T10:13:22.622814Z"
    }
   },
   "outputs": [
    {
     "name": "stdout",
     "output_type": "stream",
     "text": [
      "altitude-2020-04-08.json\n",
      "altitude-2020-05-08.json\n",
      "altitude-2020-06-07.json\n",
      "altitude-2020-07-07.json\n",
      "altitude-2020-08-06.json\n",
      "altitude-2020-09-05.json\n",
      "altitude-2020-10-05.json\n",
      "calories-2020-04-08.json\n",
      "calories-2020-05-08.json\n",
      "calories-2020-06-07.json\n",
      "calories-2020-07-07.json\n",
      "calories-2020-08-06.json\n",
      "calories-2020-09-05.json\n",
      "calories-2020-10-05.json\n",
      "demographic_vo2_max-2020-04-08.json\n",
      "distance-2020-04-08.json\n",
      "distance-2020-05-08.json\n",
      "distance-2020-06-07.json\n",
      "distance-2020-07-07.json\n",
      "distance-2020-08-06.json\n",
      "distance-2020-09-05.json\n",
      "distance-2020-10-05.json\n",
      "exercise-0.json\n",
      "exercise-100.json\n",
      "exercise-200.json\n",
      "exercise-300.json\n",
      "lightly_active_minutes-2020-04-08.json\n",
      "lightly_active_minutes-2020-05-08.json\n",
      "lightly_active_minutes-2020-06-07.json\n",
      "lightly_active_minutes-2020-07-07.json\n",
      "lightly_active_minutes-2020-08-06.json\n",
      "lightly_active_minutes-2020-09-05.json\n",
      "lightly_active_minutes-2020-10-05.json\n",
      "moderately_active_minutes-2020-04-08.json\n",
      "moderately_active_minutes-2020-05-08.json\n",
      "moderately_active_minutes-2020-06-07.json\n",
      "moderately_active_minutes-2020-07-07.json\n",
      "moderately_active_minutes-2020-08-06.json\n",
      "moderately_active_minutes-2020-09-05.json\n",
      "moderately_active_minutes-2020-10-05.json\n",
      "run_vo2_max-2020-04-08.json\n",
      "sedentary_minutes-2020-04-08.json\n",
      "sedentary_minutes-2020-05-08.json\n",
      "sedentary_minutes-2020-06-07.json\n",
      "sedentary_minutes-2020-07-07.json\n",
      "sedentary_minutes-2020-08-06.json\n",
      "sedentary_minutes-2020-09-05.json\n",
      "sedentary_minutes-2020-10-05.json\n",
      "steps-2020-04-08.json\n",
      "steps-2020-05-08.json\n",
      "steps-2020-06-07.json\n",
      "steps-2020-07-07.json\n",
      "steps-2020-08-06.json\n",
      "steps-2020-09-05.json\n",
      "steps-2020-10-05.json\n",
      "swim_lengths_data-2020-04-08.json\n",
      "swim_lengths_data-2020-05-08.json\n",
      "swim_lengths_data-2020-06-07.json\n",
      "swim_lengths_data-2020-07-07.json\n",
      "swim_lengths_data-2020-08-06.json\n",
      "swim_lengths_data-2020-09-05.json\n",
      "swim_lengths_data-2020-10-05.json\n",
      "very_active_minutes-2020-04-08.json\n",
      "very_active_minutes-2020-05-08.json\n",
      "very_active_minutes-2020-06-07.json\n",
      "very_active_minutes-2020-07-07.json\n",
      "very_active_minutes-2020-08-06.json\n",
      "very_active_minutes-2020-09-05.json\n",
      "very_active_minutes-2020-10-05.json\n"
     ]
    }
   ],
   "source": [
    "for filename in sorted(os.listdir(os.path.join(data_dir, 'Physical Activity'))):  # Sort for easier reading\n",
    "    if not 'heart_rate' in filename:  # Because that's too many files\n",
    "        print(filename)"
   ]
  },
  {
   "cell_type": "markdown",
   "metadata": {},
   "source": [
    "A wealth of data! So much, in fact, that it's going to be tedious to go through all of it. Let's do some pre-selecting:\n",
    "- Ignore swimming data (because I don't swim).\n",
    "- Ignore altitude data (little variation therein anyway)\n",
    "- Do not take both distance *and* steps; these are too closely related.\n",
    "- The different types of active minutes (sedentary, lightly, moderately, very active) can be useful. But because they are split over 4 sets of data, we will shelve them for now.\n",
    "\n",
    "So, for now I will focus on:\n",
    "- Distance\n",
    "- Calories"
   ]
  },
  {
   "cell_type": "markdown",
   "metadata": {},
   "source": [
    "### Loading and combining `.json` data for calories"
   ]
  },
  {
   "cell_type": "markdown",
   "metadata": {},
   "source": [
    "Let's take a look at the `calories` data. We will need to combine several sets, but will first need to see what one of these looks like."
   ]
  },
  {
   "cell_type": "code",
   "execution_count": 52,
   "metadata": {
    "ExecuteTime": {
     "end_time": "2020-10-14T10:42:26.337981Z",
     "start_time": "2020-10-14T10:42:22.716973Z"
    },
    "collapsed": true
   },
   "outputs": [],
   "source": [
    "cals1 = pd.read_json(os.path.join(data_dir, 'Physical Activity', 'calories-2020-04-08.json'))"
   ]
  },
  {
   "cell_type": "code",
   "execution_count": 53,
   "metadata": {
    "ExecuteTime": {
     "end_time": "2020-10-14T10:42:27.535543Z",
     "start_time": "2020-10-14T10:42:27.501347Z"
    }
   },
   "outputs": [
    {
     "data": {
      "text/html": [
       "<div>\n",
       "<style scoped>\n",
       "    .dataframe tbody tr th:only-of-type {\n",
       "        vertical-align: middle;\n",
       "    }\n",
       "\n",
       "    .dataframe tbody tr th {\n",
       "        vertical-align: top;\n",
       "    }\n",
       "\n",
       "    .dataframe thead th {\n",
       "        text-align: right;\n",
       "    }\n",
       "</style>\n",
       "<table border=\"1\" class=\"dataframe\">\n",
       "  <thead>\n",
       "    <tr style=\"text-align: right;\">\n",
       "      <th></th>\n",
       "      <th>dateTime</th>\n",
       "      <th>value</th>\n",
       "    </tr>\n",
       "  </thead>\n",
       "  <tbody>\n",
       "    <tr>\n",
       "      <th>0</th>\n",
       "      <td>2020-04-08 00:00:00</td>\n",
       "      <td>1.26</td>\n",
       "    </tr>\n",
       "    <tr>\n",
       "      <th>1</th>\n",
       "      <td>2020-04-08 00:01:00</td>\n",
       "      <td>1.26</td>\n",
       "    </tr>\n",
       "    <tr>\n",
       "      <th>2</th>\n",
       "      <td>2020-04-08 00:02:00</td>\n",
       "      <td>1.26</td>\n",
       "    </tr>\n",
       "    <tr>\n",
       "      <th>3</th>\n",
       "      <td>2020-04-08 00:03:00</td>\n",
       "      <td>1.26</td>\n",
       "    </tr>\n",
       "    <tr>\n",
       "      <th>4</th>\n",
       "      <td>2020-04-08 00:04:00</td>\n",
       "      <td>1.26</td>\n",
       "    </tr>\n",
       "  </tbody>\n",
       "</table>\n",
       "</div>"
      ],
      "text/plain": [
       "             dateTime  value\n",
       "0 2020-04-08 00:00:00   1.26\n",
       "1 2020-04-08 00:01:00   1.26\n",
       "2 2020-04-08 00:02:00   1.26\n",
       "3 2020-04-08 00:03:00   1.26\n",
       "4 2020-04-08 00:04:00   1.26"
      ]
     },
     "execution_count": 53,
     "metadata": {},
     "output_type": "execute_result"
    }
   ],
   "source": [
    "cals1.head()"
   ]
  },
  {
   "cell_type": "markdown",
   "metadata": {},
   "source": [
    "Alright, that's not very helpful: we get the amount of calories *per minute*, but we want it *per day*. So, we need to do some simple aggregating.\n",
    "\n",
    "First, get the dates:"
   ]
  },
  {
   "cell_type": "code",
   "execution_count": 54,
   "metadata": {
    "ExecuteTime": {
     "end_time": "2020-10-14T10:42:29.407768Z",
     "start_time": "2020-10-14T10:42:29.379565Z"
    },
    "collapsed": true
   },
   "outputs": [],
   "source": [
    "cals1['date'] = cals1['dateTime'].dt.date"
   ]
  },
  {
   "cell_type": "code",
   "execution_count": 55,
   "metadata": {
    "ExecuteTime": {
     "end_time": "2020-10-14T10:42:31.137024Z",
     "start_time": "2020-10-14T10:42:31.118262Z"
    }
   },
   "outputs": [
    {
     "data": {
      "text/html": [
       "<div>\n",
       "<style scoped>\n",
       "    .dataframe tbody tr th:only-of-type {\n",
       "        vertical-align: middle;\n",
       "    }\n",
       "\n",
       "    .dataframe tbody tr th {\n",
       "        vertical-align: top;\n",
       "    }\n",
       "\n",
       "    .dataframe thead th {\n",
       "        text-align: right;\n",
       "    }\n",
       "</style>\n",
       "<table border=\"1\" class=\"dataframe\">\n",
       "  <thead>\n",
       "    <tr style=\"text-align: right;\">\n",
       "      <th></th>\n",
       "      <th>dateTime</th>\n",
       "      <th>value</th>\n",
       "      <th>date</th>\n",
       "    </tr>\n",
       "  </thead>\n",
       "  <tbody>\n",
       "    <tr>\n",
       "      <th>0</th>\n",
       "      <td>2020-04-08 00:00:00</td>\n",
       "      <td>1.26</td>\n",
       "      <td>2020-04-08</td>\n",
       "    </tr>\n",
       "    <tr>\n",
       "      <th>1</th>\n",
       "      <td>2020-04-08 00:01:00</td>\n",
       "      <td>1.26</td>\n",
       "      <td>2020-04-08</td>\n",
       "    </tr>\n",
       "    <tr>\n",
       "      <th>2</th>\n",
       "      <td>2020-04-08 00:02:00</td>\n",
       "      <td>1.26</td>\n",
       "      <td>2020-04-08</td>\n",
       "    </tr>\n",
       "    <tr>\n",
       "      <th>3</th>\n",
       "      <td>2020-04-08 00:03:00</td>\n",
       "      <td>1.26</td>\n",
       "      <td>2020-04-08</td>\n",
       "    </tr>\n",
       "    <tr>\n",
       "      <th>4</th>\n",
       "      <td>2020-04-08 00:04:00</td>\n",
       "      <td>1.26</td>\n",
       "      <td>2020-04-08</td>\n",
       "    </tr>\n",
       "  </tbody>\n",
       "</table>\n",
       "</div>"
      ],
      "text/plain": [
       "             dateTime  value        date\n",
       "0 2020-04-08 00:00:00   1.26  2020-04-08\n",
       "1 2020-04-08 00:01:00   1.26  2020-04-08\n",
       "2 2020-04-08 00:02:00   1.26  2020-04-08\n",
       "3 2020-04-08 00:03:00   1.26  2020-04-08\n",
       "4 2020-04-08 00:04:00   1.26  2020-04-08"
      ]
     },
     "execution_count": 55,
     "metadata": {},
     "output_type": "execute_result"
    }
   ],
   "source": [
    "cals1.head()"
   ]
  },
  {
   "cell_type": "markdown",
   "metadata": {},
   "source": [
    "Then, collect the total calories per day:"
   ]
  },
  {
   "cell_type": "code",
   "execution_count": 68,
   "metadata": {
    "ExecuteTime": {
     "end_time": "2020-10-14T10:52:25.400335Z",
     "start_time": "2020-10-14T10:52:25.378624Z"
    },
    "scrolled": true
   },
   "outputs": [],
   "source": [
    "cals2 = cals1.groupby('date', as_index=False).agg({'value': 'sum'})"
   ]
  },
  {
   "cell_type": "code",
   "execution_count": 69,
   "metadata": {
    "ExecuteTime": {
     "end_time": "2020-10-14T10:52:27.717991Z",
     "start_time": "2020-10-14T10:52:27.700546Z"
    }
   },
   "outputs": [
    {
     "name": "stdout",
     "output_type": "stream",
     "text": [
      "         date    value\n",
      "0  2020-04-08  1814.40\n",
      "1  2020-04-09  2583.14\n",
      "2  2020-04-10  3635.23\n",
      "3  2020-04-11  3183.30\n",
      "4  2020-04-12  3364.11 <class 'pandas.core.frame.DataFrame'>\n"
     ]
    }
   ],
   "source": [
    "print(cals2.head(), type(cals2))"
   ]
  },
  {
   "cell_type": "markdown",
   "metadata": {},
   "source": [
    "That looks useful! Now we need to collect data from all the files we have, and join them together into a single dataframe."
   ]
  },
  {
   "cell_type": "code",
   "execution_count": 120,
   "metadata": {
    "ExecuteTime": {
     "end_time": "2020-10-14T12:55:38.716211Z",
     "start_time": "2020-10-14T12:55:08.319932Z"
    }
   },
   "outputs": [],
   "source": [
    "frames = []\n",
    "for filename in os.listdir(os.path.join(data_dir, 'Physical Activity')):\n",
    "    if not 'calories' in filename:\n",
    "        continue\n",
    "    cals = pd.read_json(os.path.join(data_dir, 'Physical Activity', filename))\n",
    "    cals['date'] = cals['dateTime'].dt.date\n",
    "    summed = cals.groupby('date', as_index=False).agg({'value': 'sum'})\n",
    "    frames.append(summed)\n",
    "\n",
    "calories = pd.concat(frames)"
   ]
  },
  {
   "cell_type": "code",
   "execution_count": 71,
   "metadata": {
    "ExecuteTime": {
     "end_time": "2020-10-14T10:53:24.980660Z",
     "start_time": "2020-10-14T10:53:24.967998Z"
    }
   },
   "outputs": [
    {
     "name": "stdout",
     "output_type": "stream",
     "text": [
      "         date    value\n",
      "0  2020-07-07  2653.44\n",
      "1  2020-07-08  2841.67\n",
      "2  2020-07-09  3267.03\n",
      "3  2020-07-10  4198.19\n",
      "4  2020-07-11  3272.13\n"
     ]
    }
   ],
   "source": [
    "print(calories.head())"
   ]
  },
  {
   "cell_type": "code",
   "execution_count": 72,
   "metadata": {
    "ExecuteTime": {
     "end_time": "2020-10-14T10:53:37.241293Z",
     "start_time": "2020-10-14T10:53:37.230240Z"
    }
   },
   "outputs": [
    {
     "name": "stdout",
     "output_type": "stream",
     "text": [
      "             value\n",
      "count   190.000000\n",
      "mean   3205.738421\n",
      "std     573.753744\n",
      "min     773.320000\n",
      "25%    2813.255000\n",
      "50%    3206.650000\n",
      "75%    3557.925000\n",
      "max    5038.520000\n"
     ]
    }
   ],
   "source": [
    "print(calories.describe())"
   ]
  },
  {
   "cell_type": "code",
   "execution_count": 73,
   "metadata": {
    "ExecuteTime": {
     "end_time": "2020-10-14T10:53:45.994816Z",
     "start_time": "2020-10-14T10:53:45.981356Z"
    }
   },
   "outputs": [
    {
     "name": "stdout",
     "output_type": "stream",
     "text": [
      "<class 'pandas.core.frame.DataFrame'>\n",
      "Int64Index: 190 entries, 0 to 29\n",
      "Data columns (total 2 columns):\n",
      " #   Column  Non-Null Count  Dtype  \n",
      "---  ------  --------------  -----  \n",
      " 0   date    190 non-null    object \n",
      " 1   value   190 non-null    float64\n",
      "dtypes: float64(1), object(1)\n",
      "memory usage: 4.5+ KB\n",
      "None\n"
     ]
    }
   ],
   "source": [
    "print(calories.info())"
   ]
  },
  {
   "cell_type": "code",
   "execution_count": 74,
   "metadata": {
    "ExecuteTime": {
     "end_time": "2020-10-14T10:54:12.378418Z",
     "start_time": "2020-10-14T10:54:12.132278Z"
    }
   },
   "outputs": [
    {
     "data": {
      "text/plain": [
       "array([[<matplotlib.axes._subplots.AxesSubplot object at 0x7fbd31db2790>]],\n",
       "      dtype=object)"
      ]
     },
     "execution_count": 74,
     "metadata": {},
     "output_type": "execute_result"
    },
    {
     "data": {
      "image/png": "[encoded data removed]",
      "text/plain": [
       "<Figure size 432x288 with 1 Axes>"
      ]
     },
     "metadata": {
      "needs_background": "light"
     },
     "output_type": "display_data"
    }
   ],
   "source": [
    "calories.hist()"
   ]
  },
  {
   "cell_type": "markdown",
   "metadata": {},
   "source": [
    "Wonderful. One thing to note is that there seem to be 3 more entries in `calories` than there are in `sleep_scores`. Hopefully that will be resolved by matching data on dates. For now, we need to collect similar information for distance"
   ]
  },
  {
   "cell_type": "markdown",
   "metadata": {},
   "source": [
    "###  `.json` data for distance"
   ]
  },
  {
   "cell_type": "code",
   "execution_count": 75,
   "metadata": {
    "ExecuteTime": {
     "end_time": "2020-10-14T10:56:42.181138Z",
     "start_time": "2020-10-14T10:56:40.319825Z"
    },
    "collapsed": true
   },
   "outputs": [],
   "source": [
    "dist1 = pd.read_json(os.path.join(data_dir, 'Physical Activity', 'distance-2020-04-08.json'))"
   ]
  },
  {
   "cell_type": "code",
   "execution_count": 76,
   "metadata": {
    "ExecuteTime": {
     "end_time": "2020-10-14T10:56:47.912553Z",
     "start_time": "2020-10-14T10:56:47.897461Z"
    }
   },
   "outputs": [
    {
     "name": "stdout",
     "output_type": "stream",
     "text": [
      "             dateTime  value\n",
      "0 2020-04-09 10:36:00      0\n",
      "1 2020-04-09 10:37:00      0\n",
      "2 2020-04-09 10:38:00      0\n",
      "3 2020-04-09 10:43:00      0\n",
      "4 2020-04-09 10:44:00      0\n"
     ]
    }
   ],
   "source": [
    "print(dist1.head())"
   ]
  },
  {
   "cell_type": "markdown",
   "metadata": {},
   "source": [
    "Looks like the same thing: distance collected by some time interval smaller than a day. Follow the same procedure as for calories:"
   ]
  },
  {
   "cell_type": "code",
   "execution_count": 121,
   "metadata": {
    "ExecuteTime": {
     "end_time": "2020-10-14T12:56:07.097024Z",
     "start_time": "2020-10-14T12:55:50.671451Z"
    },
    "scrolled": false
   },
   "outputs": [],
   "source": [
    "frames = []\n",
    "for filename in os.listdir(os.path.join(data_dir, 'Physical Activity')):\n",
    "    if not 'distance' in filename:\n",
    "        continue\n",
    "    dist = pd.read_json(os.path.join(data_dir, 'Physical Activity', filename))\n",
    "    dist['date'] = dist['dateTime'].dt.date\n",
    "    summed = dist.groupby('date', as_index=False).agg({'value': 'sum'})\n",
    "    frames.append(summed)\n",
    "\n",
    "distance = pd.concat(frames)"
   ]
  },
  {
   "cell_type": "code",
   "execution_count": 86,
   "metadata": {
    "ExecuteTime": {
     "end_time": "2020-10-14T12:36:09.485524Z",
     "start_time": "2020-10-14T12:36:09.475529Z"
    }
   },
   "outputs": [
    {
     "name": "stdout",
     "output_type": "stream",
     "text": [
      "         date    value\n",
      "0  2020-04-09   396100\n",
      "1  2020-04-10  1479970\n",
      "2  2020-04-11   667330\n",
      "3  2020-04-12  1373720\n",
      "4  2020-04-13   615080\n"
     ]
    }
   ],
   "source": [
    "print(distance.head())"
   ]
  },
  {
   "cell_type": "code",
   "execution_count": 87,
   "metadata": {
    "ExecuteTime": {
     "end_time": "2020-10-14T12:36:13.520693Z",
     "start_time": "2020-10-14T12:36:13.507147Z"
    }
   },
   "outputs": [
    {
     "name": "stdout",
     "output_type": "stream",
     "text": [
      "<class 'pandas.core.frame.DataFrame'>\n",
      "Int64Index: 195 entries, 0 to 30\n",
      "Data columns (total 2 columns):\n",
      " #   Column  Non-Null Count  Dtype \n",
      "---  ------  --------------  ----- \n",
      " 0   date    195 non-null    object\n",
      " 1   value   195 non-null    int64 \n",
      "dtypes: int64(1), object(1)\n",
      "memory usage: 4.6+ KB\n",
      "None\n"
     ]
    }
   ],
   "source": [
    "print(distance.info())"
   ]
  },
  {
   "cell_type": "code",
   "execution_count": 88,
   "metadata": {
    "ExecuteTime": {
     "end_time": "2020-10-14T12:36:17.854876Z",
     "start_time": "2020-10-14T12:36:17.835217Z"
    }
   },
   "outputs": [
    {
     "name": "stdout",
     "output_type": "stream",
     "text": [
      "              value\n",
      "count  1.950000e+02\n",
      "mean   8.907349e+05\n",
      "std    4.925827e+05\n",
      "min    0.000000e+00\n",
      "25%    6.020100e+05\n",
      "50%    8.520900e+05\n",
      "75%    1.246845e+06\n",
      "max    2.651220e+06\n"
     ]
    }
   ],
   "source": [
    "print(distance.describe())"
   ]
  },
  {
   "cell_type": "markdown",
   "metadata": {},
   "source": [
    "So there are 195 values here, compared to 190/187 before. Again, this should be sorted out once we join on date.\n",
    "\n",
    "Also, the units of `distance` are centimeters, by the looks of it."
   ]
  },
  {
   "cell_type": "markdown",
   "metadata": {},
   "source": [
    "## Putting it all together"
   ]
  },
  {
   "cell_type": "markdown",
   "metadata": {},
   "source": [
    "Now that we have our sleep data, as well as info on calories and distance, we want to join the three dataframes together. If this were SQL, an INNER JOIN on `date` would be the solution. In pandas we can do something similar.\n",
    "\n",
    "First ensure that all three dataframes have the same index, and that calories and distance can be distinguished."
   ]
  },
  {
   "cell_type": "code",
   "execution_count": 129,
   "metadata": {
    "ExecuteTime": {
     "end_time": "2020-10-14T12:56:56.790801Z",
     "start_time": "2020-10-14T12:56:56.785191Z"
    }
   },
   "outputs": [],
   "source": [
    "sleep_scores.set_index('date', inplace=True)\n",
    "calories.set_index('date', inplace=True)\n",
    "distance.set_index('date', inplace=True)\n",
    "calories.rename(columns={\"value\": \"calories\"}, inplace=True)\n",
    "distance.rename(columns={\"value\": \"distance\"}, inplace=True)"
   ]
  },
  {
   "cell_type": "code",
   "execution_count": 130,
   "metadata": {
    "ExecuteTime": {
     "end_time": "2020-10-14T12:57:06.543647Z",
     "start_time": "2020-10-14T12:57:06.514401Z"
    }
   },
   "outputs": [
    {
     "name": "stdout",
     "output_type": "stream",
     "text": [
      "            sleep_log_entry_id             timestamp  overall_score  \\\n",
      "date                                                                  \n",
      "2020-10-14         29272484200  2020-10-14T08:37:30Z             79   \n",
      "2020-10-13         29258226487  2020-10-13T08:34:30Z             83   \n",
      "2020-10-12         29239981449  2020-10-12T08:36:00Z             78   \n",
      "2020-10-11         29227910597  2020-10-11T09:26:00Z             80   \n",
      "2020-10-10         29215246798  2020-10-10T09:23:00Z             88   \n",
      "\n",
      "            composition_score  revitalization_score  duration_score  \\\n",
      "date                                                                  \n",
      "2020-10-14                 21                    21              37   \n",
      "2020-10-13                 18                    21              44   \n",
      "2020-10-12                 22                    20              36   \n",
      "2020-10-11                 19                    22              39   \n",
      "2020-10-10                 20                    22              46   \n",
      "\n",
      "            deep_sleep_in_minutes  resting_heart_rate  restlessness  \n",
      "date                                                                 \n",
      "2020-10-14                     74                  45      0.089061  \n",
      "2020-10-13                     66                  45      0.104386  \n",
      "2020-10-12                     87                  45      0.089728  \n",
      "2020-10-11                     75                  45      0.066084  \n",
      "2020-10-10                     93                  45      0.056881  \n",
      "            calories\n",
      "date                \n",
      "2020-07-07   2653.44\n",
      "2020-07-08   2841.67\n",
      "2020-07-09   3267.03\n",
      "2020-07-10   4198.19\n",
      "2020-07-11   3272.13\n",
      "            distance\n",
      "date                \n",
      "2020-04-09    396100\n",
      "2020-04-10   1479970\n",
      "2020-04-11    667330\n",
      "2020-04-12   1373720\n",
      "2020-04-13    615080\n"
     ]
    }
   ],
   "source": [
    "print(sleep_scores.head())\n",
    "print(calories.head())\n",
    "print(distance.head())"
   ]
  },
  {
   "cell_type": "code",
   "execution_count": 131,
   "metadata": {
    "ExecuteTime": {
     "end_time": "2020-10-14T12:57:09.134845Z",
     "start_time": "2020-10-14T12:57:09.123989Z"
    }
   },
   "outputs": [
    {
     "name": "stdout",
     "output_type": "stream",
     "text": [
      "True\n",
      "True\n",
      "False\n"
     ]
    }
   ],
   "source": [
    "print(sleep_scores.index.is_unique)\n",
    "print(calories.index.is_unique)\n",
    "print(distance.index.is_unique)"
   ]
  },
  {
   "cell_type": "markdown",
   "metadata": {},
   "source": [
    "At some point, `distance` contained duplicates. I *could* investigate how that can be the case (maybe due to duplicate dates across `.json`s), *or* just remove the duplicates:"
   ]
  },
  {
   "cell_type": "code",
   "execution_count": 132,
   "metadata": {
    "ExecuteTime": {
     "end_time": "2020-10-14T12:57:10.907382Z",
     "start_time": "2020-10-14T12:57:10.900908Z"
    },
    "collapsed": true
   },
   "outputs": [],
   "source": [
    "distance = distance[~distance.index.duplicated(keep='first')]"
   ]
  },
  {
   "cell_type": "code",
   "execution_count": 133,
   "metadata": {
    "ExecuteTime": {
     "end_time": "2020-10-14T12:57:12.827120Z",
     "start_time": "2020-10-14T12:57:12.808938Z"
    }
   },
   "outputs": [],
   "source": [
    "df = pd.concat([sleep_scores, calories, distance], join='inner', axis=1)"
   ]
  },
  {
   "cell_type": "code",
   "execution_count": 134,
   "metadata": {
    "ExecuteTime": {
     "end_time": "2020-10-14T12:57:15.453058Z",
     "start_time": "2020-10-14T12:57:15.438516Z"
    }
   },
   "outputs": [
    {
     "name": "stdout",
     "output_type": "stream",
     "text": [
      "            sleep_log_entry_id             timestamp  overall_score  \\\n",
      "date                                                                  \n",
      "2020-10-14         29272484200  2020-10-14T08:37:30Z             79   \n",
      "2020-10-13         29258226487  2020-10-13T08:34:30Z             83   \n",
      "2020-10-12         29239981449  2020-10-12T08:36:00Z             78   \n",
      "2020-10-11         29227910597  2020-10-11T09:26:00Z             80   \n",
      "2020-10-10         29215246798  2020-10-10T09:23:00Z             88   \n",
      "\n",
      "            composition_score  revitalization_score  duration_score  \\\n",
      "date                                                                  \n",
      "2020-10-14                 21                    21              37   \n",
      "2020-10-13                 18                    21              44   \n",
      "2020-10-12                 22                    20              36   \n",
      "2020-10-11                 19                    22              39   \n",
      "2020-10-10                 20                    22              46   \n",
      "\n",
      "            deep_sleep_in_minutes  resting_heart_rate  restlessness  calories  \\\n",
      "date                                                                            \n",
      "2020-10-14                     74                  45      0.089061    773.32   \n",
      "2020-10-13                     66                  45      0.104386   3769.94   \n",
      "2020-10-12                     87                  45      0.089728   3007.74   \n",
      "2020-10-11                     75                  45      0.066084   3891.34   \n",
      "2020-10-10                     93                  45      0.056881   3060.54   \n",
      "\n",
      "            distance  \n",
      "date                  \n",
      "2020-10-14     18780  \n",
      "2020-10-13   1485000  \n",
      "2020-10-12    715940  \n",
      "2020-10-11   1336270  \n",
      "2020-10-10    852090  \n"
     ]
    }
   ],
   "source": [
    "print(df.head())"
   ]
  },
  {
   "cell_type": "code",
   "execution_count": 135,
   "metadata": {
    "ExecuteTime": {
     "end_time": "2020-10-14T12:57:18.653686Z",
     "start_time": "2020-10-14T12:57:18.608711Z"
    }
   },
   "outputs": [
    {
     "name": "stdout",
     "output_type": "stream",
     "text": [
      "<class 'pandas.core.frame.DataFrame'>\n",
      "Index: 187 entries, 2020-10-14 to 2020-04-10\n",
      "Data columns (total 11 columns):\n",
      " #   Column                 Non-Null Count  Dtype  \n",
      "---  ------                 --------------  -----  \n",
      " 0   sleep_log_entry_id     187 non-null    int64  \n",
      " 1   timestamp              187 non-null    object \n",
      " 2   overall_score          187 non-null    int64  \n",
      " 3   composition_score      187 non-null    int64  \n",
      " 4   revitalization_score   187 non-null    int64  \n",
      " 5   duration_score         187 non-null    int64  \n",
      " 6   deep_sleep_in_minutes  187 non-null    int64  \n",
      " 7   resting_heart_rate     187 non-null    int64  \n",
      " 8   restlessness           187 non-null    float64\n",
      " 9   calories               187 non-null    float64\n",
      " 10  distance               187 non-null    int64  \n",
      "dtypes: float64(2), int64(8), object(1)\n",
      "memory usage: 17.5+ KB\n",
      "None\n"
     ]
    }
   ],
   "source": [
    "print(df.info())"
   ]
  },
  {
   "cell_type": "code",
   "execution_count": 136,
   "metadata": {
    "ExecuteTime": {
     "end_time": "2020-10-14T12:57:21.959587Z",
     "start_time": "2020-10-14T12:57:21.894713Z"
    }
   },
   "outputs": [
    {
     "name": "stdout",
     "output_type": "stream",
     "text": [
      "       sleep_log_entry_id  overall_score  composition_score  \\\n",
      "count        1.870000e+02     187.000000         187.000000   \n",
      "mean         2.799698e+10      81.294118          20.358289   \n",
      "std          7.531101e+08       5.116295           1.935790   \n",
      "min          2.668045e+10      52.000000          13.000000   \n",
      "25%          2.737396e+10      79.000000          19.000000   \n",
      "50%          2.800923e+10      82.000000          21.000000   \n",
      "75%          2.864144e+10      85.000000          22.000000   \n",
      "max          2.927248e+10      92.000000          24.000000   \n",
      "\n",
      "       revitalization_score  duration_score  deep_sleep_in_minutes  \\\n",
      "count            187.000000      187.000000             187.000000   \n",
      "mean              20.930481       40.005348              88.165775   \n",
      "std                1.926187        3.378454              19.986267   \n",
      "min               12.000000       24.000000              23.000000   \n",
      "25%               20.000000       38.500000              76.000000   \n",
      "50%               21.000000       41.000000              89.000000   \n",
      "75%               22.000000       42.000000             101.500000   \n",
      "max               24.000000       46.000000             151.000000   \n",
      "\n",
      "       resting_heart_rate  restlessness     calories      distance  \n",
      "count          187.000000    187.000000   187.000000  1.870000e+02  \n",
      "mean            46.641711      0.079579  3215.739037  9.143190e+05  \n",
      "std              1.676842      0.020694   567.273741  4.845383e+05  \n",
      "min             44.000000      0.042386   773.320000  0.000000e+00  \n",
      "25%             45.000000      0.065348  2828.265000  6.260900e+05  \n",
      "50%             46.000000      0.076162  3208.720000  8.613100e+05  \n",
      "75%             48.000000      0.089287  3561.795000  1.250170e+06  \n",
      "max             53.000000      0.198643  5038.520000  2.651220e+06  \n"
     ]
    }
   ],
   "source": [
    "print(df.describe())"
   ]
  },
  {
   "cell_type": "markdown",
   "metadata": {},
   "source": [
    "## Save the data"
   ]
  },
  {
   "cell_type": "code",
   "execution_count": 137,
   "metadata": {
    "ExecuteTime": {
     "end_time": "2020-10-14T12:58:06.792468Z",
     "start_time": "2020-10-14T12:58:06.769750Z"
    },
    "collapsed": true
   },
   "outputs": [],
   "source": [
    "df.to_csv('Fitbit_data_agg.csv')"
   ]
  }
 ],
 "metadata": {
  "kernelspec": {
   "display_name": "Python 3.8 ML",
   "language": "python",
   "name": "py38-ml"
  },
  "language_info": {
   "codemirror_mode": {
    "name": "ipython",
    "version": 3
   },
   "file_extension": ".py",
   "mimetype": "text/x-python",
   "name": "python",
   "nbconvert_exporter": "python",
   "pygments_lexer": "ipython3",
   "version": "3.8.2"
  },
  "latex_envs": {
   "LaTeX_envs_menu_present": true,
   "autoclose": false,
   "autocomplete": true,
   "bibliofile": "biblio.bib",
   "cite_by": "apalike",
   "current_citInitial": 1,
   "eqLabelWithNumbers": true,
   "eqNumInitial": 1,
   "hotkeys": {
    "equation": "Ctrl-E",
    "itemize": "Ctrl-I"
   },
   "labels_anchors": false,
   "latex_user_defs": false,
   "report_style_numbering": false,
   "user_envs_cfg": false
  }
 },
 "nbformat": 4,
 "nbformat_minor": 2
}
